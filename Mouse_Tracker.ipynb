{
 "cells": [
  {
   "cell_type": "code",
   "execution_count": null,
   "id": "c89cd41e",
   "metadata": {},
   "outputs": [],
   "source": [
    "#installing Dependencies\n",
    "import cv2 as cv\n",
    "import numpy as np\n",
    "import pyautogui"
   ]
  },
  {
   "cell_type": "code",
   "execution_count": null,
   "id": "432d3b8f",
   "metadata": {},
   "outputs": [],
   "source": [
    "cam = cv.VideoCapture(0)"
   ]
  },
  {
   "cell_type": "code",
   "execution_count": null,
   "id": "a511e68f",
   "metadata": {},
   "outputs": [],
   "source": [
    "lower_orange = np.array([5,100,100])\n",
    "upper_orange = np.array([15,255,255])"
   ]
  },
  {
   "cell_type": "code",
   "execution_count": null,
   "id": "780bb519",
   "metadata": {},
   "outputs": [],
   "source": [
    "lower_green = np.array([50,100,100])\n",
    "upper_green = np.array([80,255,255])"
   ]
  },
  {
   "cell_type": "code",
   "execution_count": null,
   "id": "dc9231af",
   "metadata": {},
   "outputs": [],
   "source": [
    "lower_violet = np.array([20,100,100])\n",
    "upper_violet = np.array([40,255,255])"
   ]
  },
  {
   "cell_type": "code",
   "execution_count": null,
   "id": "a21313e7",
   "metadata": {},
   "outputs": [],
   "source": [
    "while(True):        \n",
    "        ret,frame = cam.read()\n",
    "        frame = cv.flip(frame,1)\n",
    "\n",
    "        #Smoothen the image\n",
    "        image_smooth = cv.GaussianBlur(frame,(7,7),0)\n",
    "\n",
    "        #Define ROI\n",
    "        mask = np.zeros_like(frame)\n",
    "        mask[100:350,100:350] = [255,255,255]\n",
    "        image_roi = cv.bitwise_and(image_smooth,mask)\n",
    "        cv.rectangle(frame,(50,50),(350,350),(0,0,255),2)\n",
    "        cv.line(frame,(150,50),(150,350),(0,0,255),1)\n",
    "        cv.line(frame,(250,50),(250,350),(0,0,255),1)\n",
    "        cv.line(frame,(50,150),(350,150),(0,0,255),1)\n",
    "        cv.line(frame,(50,250),(350,250),(0,0,255),1)\n",
    "\n",
    "        #Threshold the image for orange color\n",
    "        image_hsv = cv.cvtColor(image_roi,cv.COLOR_BGR2HSV)\n",
    "        image_threshold = cv.inRange(image_hsv,lower_orange,upper_orange)\n",
    "\n",
    "        #Find Contours\n",
    "        contours,heirarchy = cv.findContours(image_threshold, \\\n",
    "                                                           cv.RETR_TREE, \\\n",
    "                                                           cv.CHAIN_APPROX_NONE)\n",
    "\n",
    "        #Find the index of the largest contour\n",
    "        if(len(contours)!=0):\n",
    "                areas = [cv.contourArea(c)  for c in contours]\n",
    "                max_index = np.argmax(areas)\n",
    "                cnt = contours[max_index]\n",
    " \n",
    "                #pointer on video\n",
    "                M = cv.moments(cnt)\n",
    "                if(M['m00']!=0):\n",
    "                        cx = int(M['m10']/M['m00'])\n",
    "                        cy = int(M['m01']/M['m00'])\n",
    "                        cv.circle(frame, (cx,cy),4,(0,255,0),-1)\n",
    "\n",
    "                        # Cursor Motion\n",
    "                        if cx < 150:\n",
    "                                dist_x = -20\n",
    "                        elif cx > 250:\n",
    "                                dist_x = 20\n",
    "                        else:\n",
    "                                dist_x = 0\n",
    "\n",
    "                        if cy < 150:\n",
    "                                dist_y = -20\n",
    "                        elif cy > 250:\n",
    "                                dist_y = 20\n",
    "                        else:\n",
    "                                dist_y = 0\n",
    "                        pyautogui.FAILSAFE = False\n",
    "                        pyautogui.moveRel(dist_x,dist_y,duration=0.25)\n",
    "\n",
    "                # Check for left click\n",
    "                image_threshold_green = cv.inRange(image_hsv, lower_green, upper_green)\n",
    "                contours_green,heirarchy = cv.findContours(image_threshold_green,cv.RETR_TREE,cv.CHAIN_APPROX_NONE)\n",
    "                                                            \n",
    "\n",
    "                if(len(contours_green)!=0):\n",
    "                        pyautogui.click()\n",
    "                        cv.waitKey(1000)\n",
    "\n",
    "\n",
    "                \n",
    "                # Check for Right click\n",
    "                image_threshold_violet = cv.inRange(image_hsv, lower_violet, upper_violet)\n",
    "                contours_violet,heirarchy = cv.findContours(image_threshold_violet,cv.RETR_TREE,cv.CHAIN_APPROX_NONE)\n",
    "\n",
    "\n",
    "                if(len(contours_violet)!=0):\n",
    "                        pyautogui.click(button='right')\n",
    "                        cv.waitKey(1000)                \n",
    "                                        \n",
    "\n",
    "                      \n",
    "        cv.imshow('Frame',frame)\n",
    "        if cv.waitKey(10) == 27:\n",
    "                break"
   ]
  },
  {
   "cell_type": "code",
   "execution_count": null,
   "id": "ec51168c",
   "metadata": {},
   "outputs": [],
   "source": [
    "cam.release()\n",
    "cv.destroyAllWindows()"
   ]
  }
 ],
 "metadata": {
  "kernelspec": {
   "display_name": "Python 3 (ipykernel)",
   "language": "python",
   "name": "python3"
  },
  "language_info": {
   "codemirror_mode": {
    "name": "ipython",
    "version": 3
   },
   "file_extension": ".py",
   "mimetype": "text/x-python",
   "name": "python",
   "nbconvert_exporter": "python",
   "pygments_lexer": "ipython3",
   "version": "3.10.4"
  }
 },
 "nbformat": 4,
 "nbformat_minor": 5
}
